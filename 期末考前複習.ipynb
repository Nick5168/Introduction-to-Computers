{
  "nbformat": 4,
  "nbformat_minor": 0,
  "metadata": {
    "colab": {
      "name": "期末考前複習.ipynb",
      "provenance": [],
      "authorship_tag": "ABX9TyOok9fZW2+WgKqf5SfZm3Ti",
      "include_colab_link": true
    },
    "kernelspec": {
      "name": "python3",
      "display_name": "Python 3"
    },
    "language_info": {
      "name": "python"
    }
  },
  "cells": [
    {
      "cell_type": "markdown",
      "metadata": {
        "id": "view-in-github",
        "colab_type": "text"
      },
      "source": [
        "<a href=\"https://colab.research.google.com/github/Nick5168/Introduction-to-Computers/blob/main/%E6%9C%9F%E6%9C%AB%E8%80%83%E5%89%8D%E8%A4%87%E7%BF%92.ipynb\" target=\"_parent\"><img src=\"https://colab.research.google.com/assets/colab-badge.svg\" alt=\"Open In Colab\"/></a>"
      ]
    },
    {
      "cell_type": "code",
      "source": [
        "#計算體積\n",
        "x=int(input('請輸入梯形上底長度'))\n",
        "y=int(input('請輸入梯形下底長度'))\n",
        "z=int(input('請輸入梯形高度'))\n",
        "a=(x+y)*z/2\n",
        "print('梯形面積為',a,sep=\"\")\n",
        "print('梯形上底為惡：%d,梯形下底為：%d,梯形高為：%d,梯形面積為：%0.1f' %(x,y,z,a))"
      ],
      "metadata": {
        "colab": {
          "base_uri": "https://localhost:8080/"
        },
        "id": "F3o2klSj1RYF",
        "outputId": "3e3d633c-ff5f-4528-b734-363cb9a28a0e"
      },
      "execution_count": null,
      "outputs": [
        {
          "output_type": "stream",
          "name": "stdout",
          "text": [
            "請輸入梯形上底長度3\n",
            "請輸入梯形下底長度3\n",
            "請輸入梯形高度3\n",
            "梯形面積為9.0\n",
            "梯形上底為惡：3,梯形下底為：3,梯形高為：3,梯形面積為：9.0\n"
          ]
        }
      ]
    },
    {
      "cell_type": "code",
      "source": [
        "#if,else判斷式\n",
        "print('這是一個判斷偶數和奇數的軟件')\n",
        "\n",
        "n=int(input('請輸入正整數'))\n",
        "if(n%2==0):\n",
        "    print(str(n)+'為偶數')\n",
        "else:\n",
        "    print(str(n)+'為奇數')\n",
        "\n",
        "n2=int(input('請輸入正整數'))\n",
        "if(n2%2==0):\n",
        "    print(str(n2)+'為偶數')\n",
        "else:\n",
        "    print(str(n2)+'為奇數')"
      ],
      "metadata": {
        "colab": {
          "base_uri": "https://localhost:8080/"
        },
        "id": "hD0Ynp4m2uEj",
        "outputId": "d98f4298-3326-4557-eefd-cf8311335517"
      },
      "execution_count": null,
      "outputs": [
        {
          "output_type": "stream",
          "name": "stdout",
          "text": [
            "這是一個判斷偶數和奇數的軟件\n",
            "請輸入正整數3\n",
            "3為奇數\n",
            "請輸入正整數5\n",
            "5為奇數\n"
          ]
        }
      ]
    },
    {
      "cell_type": "code",
      "source": [
        "#if,elif,else判斷式\n",
        "x=int(input(\"請輸入月份\"))\n",
        "if (x==3) or (x==4) or (x==5) :\n",
        "  print(x,\"月是春天\")\n",
        "elif (x==6) or (x==7) or (x==8) :\n",
        "  print(\"月是夏天\")\n",
        "elif (x==9) or (x==10) or (x==11) :\n",
        "  print(\"月是秋天\")\n",
        "elif (x==12) or (x==1) or (x==2) :\n",
        "  print(\"月是冬天\")\n",
        "else:\n",
        "  print(\"輸入錯誤\")"
      ],
      "metadata": {
        "colab": {
          "base_uri": "https://localhost:8080/"
        },
        "id": "fQhoLxdc24wH",
        "outputId": "a48eca8c-90f4-4ef8-800b-cd41ed7e1920"
      },
      "execution_count": null,
      "outputs": [
        {
          "output_type": "stream",
          "name": "stdout",
          "text": [
            "請輸入月份6\n",
            "月是夏天\n"
          ]
        }
      ]
    },
    {
      "cell_type": "code",
      "source": [
        "#for迴圈\n",
        "t=0\n",
        "x=int(input(\"請輸入一個正整數\"))\n",
        "for n in range(x+1):\n",
        "  t=t+n\n",
        "print(t)\n",
        "\n",
        "#for迴圈\n",
        "t=0\n",
        "x=int(input(\"請輸入一個正整數\"))\n",
        "for v in range(1,x+1,1):\n",
        "  t=t+v\n",
        "  print(\"1到\",v,\"的整數合為\",t,sep=\"\")"
      ],
      "metadata": {
        "colab": {
          "base_uri": "https://localhost:8080/"
        },
        "id": "c0uW0XaH4BTN",
        "outputId": "561fbde6-ba9e-4f19-f700-8a691508a7ba"
      },
      "execution_count": null,
      "outputs": [
        {
          "output_type": "stream",
          "name": "stdout",
          "text": [
            "請輸入一個正整數3\n",
            "6\n",
            "請輸入一個正整數7\n",
            "1到1的整數合為1\n",
            "1到2的整數合為3\n",
            "1到3的整數合為6\n",
            "1到4的整數合為10\n",
            "1到5的整數合為15\n",
            "1到6的整數合為21\n",
            "1到7的整數合為28\n"
          ]
        }
      ]
    },
    {
      "cell_type": "code",
      "execution_count": null,
      "metadata": {
        "colab": {
          "base_uri": "https://localhost:8080/"
        },
        "id": "HWS0VUcLXkKs",
        "outputId": "5666014d-ad17-4a80-93e5-36da9885833b"
      },
      "outputs": [
        {
          "output_type": "stream",
          "name": "stdout",
          "text": [
            "1 * 1 = 1\t2 * 1 = 2\t3 * 1 = 3\t4 * 1 = 4\t5 * 1 = 5\t6 * 1 = 6\t7 * 1 = 7\t8 * 1 = 8\t9 * 1 = 9\t\n",
            "1 * 2 = 2\t2 * 2 = 4\t3 * 2 = 6\t4 * 2 = 8\t5 * 2 = 10\t6 * 2 = 12\t7 * 2 = 14\t8 * 2 = 16\t9 * 2 = 18\t\n",
            "1 * 3 = 3\t2 * 3 = 6\t3 * 3 = 9\t4 * 3 = 12\t5 * 3 = 15\t6 * 3 = 18\t7 * 3 = 21\t8 * 3 = 24\t9 * 3 = 27\t\n",
            "1 * 4 = 4\t2 * 4 = 8\t3 * 4 = 12\t4 * 4 = 16\t5 * 4 = 20\t6 * 4 = 24\t7 * 4 = 28\t8 * 4 = 32\t9 * 4 = 36\t\n",
            "1 * 5 = 5\t2 * 5 = 10\t3 * 5 = 15\t4 * 5 = 20\t5 * 5 = 25\t6 * 5 = 30\t7 * 5 = 35\t8 * 5 = 40\t9 * 5 = 45\t\n",
            "1 * 6 = 6\t2 * 6 = 12\t3 * 6 = 18\t4 * 6 = 24\t5 * 6 = 30\t6 * 6 = 36\t7 * 6 = 42\t8 * 6 = 48\t9 * 6 = 54\t\n",
            "1 * 7 = 7\t2 * 7 = 14\t3 * 7 = 21\t4 * 7 = 28\t5 * 7 = 35\t6 * 7 = 42\t7 * 7 = 49\t8 * 7 = 56\t9 * 7 = 63\t\n",
            "1 * 8 = 8\t2 * 8 = 16\t3 * 8 = 24\t4 * 8 = 32\t5 * 8 = 40\t6 * 8 = 48\t7 * 8 = 56\t8 * 8 = 64\t9 * 8 = 72\t\n",
            "1 * 9 = 9\t2 * 9 = 18\t3 * 9 = 27\t4 * 9 = 36\t5 * 9 = 45\t6 * 9 = 54\t7 * 9 = 63\t8 * 9 = 72\t9 * 9 = 81\t\n"
          ]
        }
      ],
      "source": [
        "#99乘法表，雙層for迴圈\n",
        "for y in range(1,10):\n",
        "  for x in range(1,10):\n",
        "    print(x,\"*\",y,\"=\",x*y,end=\"\\t\")\n",
        "  print()"
      ]
    },
    {
      "cell_type": "code",
      "source": [
        "#最小公倍數，for迴圈+條件式\n",
        "a=int(input(\"請輸入a的值:\"))\n",
        "b=int(input(\"請輸入b的值:\"))\n",
        "x=a*b+1\n",
        "for i in range(1,x):\n",
        "  if (i%a)==0 and (i%b)==0 :\n",
        "    break\n",
        "print(\"最小公倍數為:\",i)\n",
        "\n",
        "#for迴圈+條件式，遇因數5直接跳過\n",
        "a=int(input(\"請輸正整數:\"))\n",
        "for i in range(1,a+1):\n",
        "  if (i%5)==0:\n",
        "    continue\n",
        "  print(i,end=\" \")"
      ],
      "metadata": {
        "colab": {
          "base_uri": "https://localhost:8080/"
        },
        "id": "Lh_aaB-Q5g8o",
        "outputId": "cd638f8a-4bc0-4dc1-e532-716d7c863404"
      },
      "execution_count": null,
      "outputs": [
        {
          "output_type": "stream",
          "name": "stdout",
          "text": [
            "請輸入a的值:2\n",
            "請輸入b的值:3\n",
            "最小公倍數為: 6\n",
            "請輸正整數:10\n",
            "1 2 3 4 6 7 8 9 "
          ]
        }
      ]
    },
    {
      "cell_type": "code",
      "source": [
        "#wwhile迴圈，數值累加\n",
        "total=n=0\n",
        "while(n<=10):\n",
        "  total +=n\n",
        "  n +=1\n",
        "print(total)\n",
        "\n",
        "#wwhile迴圈，數值累乘\n",
        "total=i=1\n",
        "n=int(input(\"請輸入正整數\"))\n",
        "while i<=n:\n",
        "  total*=i\n",
        "  i+=1\n",
        "print(\"%d!=%d\"%(n,total))"
      ],
      "metadata": {
        "colab": {
          "base_uri": "https://localhost:8080/"
        },
        "id": "H_YeVBHs7E9v",
        "outputId": "c9ba8026-0c15-4cbc-deef-97e0d5f49c1a"
      },
      "execution_count": null,
      "outputs": [
        {
          "output_type": "stream",
          "name": "stdout",
          "text": [
            "55\n",
            "請輸入正整數10\n",
            "10!=3628800\n"
          ]
        }
      ]
    },
    {
      "cell_type": "code",
      "source": [
        "#奇數和，偶數和，複雜for迴圈\n",
        "a=50\n",
        "x=0\n",
        "y=0\n",
        "for i in range(1,a+1):\n",
        "  if (i%2)!=0:\n",
        "    continue\n",
        "  x+=i\n",
        "print(\"0-50的偶數和結果是\",x,sep=\"\")\n",
        "for i in range(1,a+1):\n",
        "  if (i%2)==0:\n",
        "    continue\n",
        "  y+=i\n",
        "print(\"0-50的奇數和結果是\",y,sep=\"\")"
      ],
      "metadata": {
        "colab": {
          "base_uri": "https://localhost:8080/"
        },
        "id": "MuQs546M71ty",
        "outputId": "b1aeab4d-127e-438c-d38c-bc0f2c47d3ba"
      },
      "execution_count": null,
      "outputs": [
        {
          "output_type": "stream",
          "name": "stdout",
          "text": [
            "0-50的偶數和結果是650\n",
            "0-50的奇數和結果是625\n"
          ]
        }
      ]
    },
    {
      "cell_type": "code",
      "source": [
        "#星星排列，創意雙層for迴圈\n",
        "#1\n",
        "x=int(input(\"請輸入正整數:\"))\n",
        "for i in range(x,0,-1): \n",
        "  for n in range(i,0,-1): \n",
        "    print(\"*\",end=\"\")\n",
        "  print(\"\")\n",
        "#2\n",
        "n=int(input(\"請輸入正整數:\"))\n",
        "for i in range(1,n+1):\n",
        "  for j in range(i,n+1):\n",
        "    print(\"*\",end=\"\")\n",
        "  print()"
      ],
      "metadata": {
        "colab": {
          "base_uri": "https://localhost:8080/"
        },
        "id": "7pz3_r6L8LtX",
        "outputId": "147b0dbf-c013-47e7-c60a-8e9d88e7c1d8"
      },
      "execution_count": null,
      "outputs": [
        {
          "output_type": "stream",
          "name": "stdout",
          "text": [
            "請輸入正整數:5\n",
            "*****\n",
            "****\n",
            "***\n",
            "**\n",
            "*\n",
            "請輸入正整數:5\n",
            "*****\n",
            "****\n",
            "***\n",
            "**\n",
            "*\n"
          ]
        }
      ]
    },
    {
      "cell_type": "code",
      "source": [
        "#倍數總和\n",
        "x=0\n",
        "for i in range(1,101):\n",
        "  if (i%3)==0 or (i%7)==0:\n",
        "    x+=i\n",
        "print(\"數值1-100中，所有是3或7倍數之總和 =\",x)\n",
        "\n",
        "#複雜for迴圈，質數判斷\n",
        "p=1\n",
        "counter=0\n",
        "n=int(input(\"請輸入正整數:\"))\n",
        "print(n,\"的因數有\",end=\"\")\n",
        "while (p<=n):\n",
        "  if(n%p==0):\n",
        "    print(p,end=\",\")\n",
        "    counter+=1\n",
        "  p+=1\n",
        "\n",
        "print()\n",
        "if (counter==2):\n",
        "  print(n,\"是質數\")\n",
        "else:\n",
        "  print(n,\"不是質數\")"
      ],
      "metadata": {
        "colab": {
          "base_uri": "https://localhost:8080/"
        },
        "id": "3iaKk9oy8vgg",
        "outputId": "4f977b2b-3342-4690-ceb1-36eb0381d237"
      },
      "execution_count": null,
      "outputs": [
        {
          "output_type": "stream",
          "name": "stdout",
          "text": [
            "數值1-100中，所有是3或7倍數之總和 = 2208\n",
            "請輸入正整數:133\n",
            "133 的因數有1,7,19,133,\n",
            "133 不是質數\n"
          ]
        }
      ]
    },
    {
      "cell_type": "code",
      "source": [
        "#基礎串列\n",
        "list5=[[\"tom\",\"1234\"]],[\"mary\",\"abcd\"],[\"david\",\"5678\"]\n",
        "print(list5[0])\n",
        "print(list5[0][0])\n",
        "print(list5[0][0][0])\n",
        "\n",
        "#for+串列\n",
        "scores=[85,79,93]\n",
        "for i in range(len(scores)):\n",
        "  print(scores[i])\n",
        "\n",
        "#擷取串列資料並印出\n",
        "#1\n",
        "subjects=[\"國文成績: \",\"數學成績: \",\"英文成績: \"]\n",
        "scores=[\"85分\",\"79分\",\"93分\"]\n",
        "for x in range(len(subjects)):\n",
        "  print(subjects[x],scores[x])\n",
        "#2\n",
        "subjects=[\"國文 \",\"數學 \",\"英文 \"]\n",
        "scores=[\"85\",\"79\",\"93\"]\n",
        "for x in range(len(subjects)):\n",
        "  print(\"%s成績:%s分\"%(subjects[x],scores[x]))\n",
        "\n",
        "#擷取串列資料並印出\n",
        "#1\n",
        "students=[\"tom\",\"mary\",\"tony\"]\n",
        "id=[\"1\",\"2\",\"3\"]\n",
        "for x in range(len(subjects)):\n",
        "  print(id[x],students[x])\n",
        "\n",
        "#2\n",
        "students=[\"tom\",\"mary\",\"tony\"]\n",
        "id=[\"1\",\"2\",\"3\"]\n",
        "for x in range(len(subjects)):\n",
        "  print(\"編號:%s 姓名%s\"%(students[x],id[x]))\n"
      ],
      "metadata": {
        "colab": {
          "base_uri": "https://localhost:8080/"
        },
        "id": "ehIDtlc7AVyc",
        "outputId": "8cfa1d70-d612-4e5d-fc95-7b6e1dd93566"
      },
      "execution_count": null,
      "outputs": [
        {
          "output_type": "stream",
          "name": "stdout",
          "text": [
            "[['tom', '1234']]\n",
            "['tom', '1234']\n",
            "tom\n",
            "85\n",
            "79\n",
            "93\n",
            "國文成績:  85分\n",
            "數學成績:  79分\n",
            "英文成績:  93分\n",
            "國文 成績:85分\n",
            "數學 成績:79分\n",
            "英文 成績:93分\n",
            "1 tom\n",
            "2 mary\n",
            "3 tony\n",
            "編號:tom 姓名1\n",
            "編號:mary 姓名2\n",
            "編號:tony 姓名3\n"
          ]
        }
      ]
    }
  ]
}