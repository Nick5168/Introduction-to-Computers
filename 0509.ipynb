{
  "nbformat": 4,
  "nbformat_minor": 0,
  "metadata": {
    "colab": {
      "name": "0509.ipynb",
      "provenance": [],
      "authorship_tag": "ABX9TyNMOme9Qrn/VbKI4cLJ+mrB",
      "include_colab_link": true
    },
    "kernelspec": {
      "name": "python3",
      "display_name": "Python 3"
    },
    "language_info": {
      "name": "python"
    }
  },
  "cells": [
    {
      "cell_type": "markdown",
      "metadata": {
        "id": "view-in-github",
        "colab_type": "text"
      },
      "source": [
        "<a href=\"https://colab.research.google.com/github/Nick5168/Introduction-to-Computers/blob/main/0509.ipynb\" target=\"_parent\"><img src=\"https://colab.research.google.com/assets/colab-badge.svg\" alt=\"Open In Colab\"/></a>"
      ]
    },
    {
      "cell_type": "code",
      "execution_count": null,
      "metadata": {
        "colab": {
          "base_uri": "https://localhost:8080/"
        },
        "id": "fF_Q_AOZ7irU",
        "outputId": "98c20f58-9f73-4460-8a3c-355c31316953"
      },
      "outputs": [
        {
          "output_type": "stream",
          "name": "stdout",
          "text": [
            "請輸入體溫21\n",
            "體溫異常請重新測量\n"
          ]
        }
      ],
      "source": [
        "x=float(input(\"請輸入體溫\"))\n",
        "if x>=37.5:\n",
        "  print(\"體溫過高\")\n",
        "elif x>=37 and x<37.5:\n",
        "  print(\"體溫略高\")\n",
        "elif x>=34 and x<37:\n",
        "  print(\"體溫正常\")\n",
        "else:\n",
        "  print(\"體溫異常請重新測量\")"
      ]
    },
    {
      "cell_type": "code",
      "source": [
        "x=float(input(\"請輸入成績\"))\n",
        "if x>=90:\n",
        "  print(\"A\")\n",
        "elif x>=80 and x<=89:\n",
        "  print(\"B\")\n",
        "elif x>=70 and x<=79:\n",
        "  print(\"C\")\n",
        "elif x>=60 and x<=69:\n",
        "  print(\"D\")\n",
        "else:\n",
        "  print(\"E\")"
      ],
      "metadata": {
        "colab": {
          "base_uri": "https://localhost:8080/"
        },
        "id": "XGNG_moN_kGQ",
        "outputId": "7dead7da-3765-4ec0-e792-40caf2c0b360"
      },
      "execution_count": null,
      "outputs": [
        {
          "output_type": "stream",
          "name": "stdout",
          "text": [
            "請輸入成績99\n",
            "A\n"
          ]
        }
      ]
    },
    {
      "cell_type": "code",
      "source": [
        "x=int(input(\"請輸入消費金額\"))\n",
        "if x>10000:\n",
        "  if x>100000:\n",
        "    print(\"八折\",x*0.8,end=\"元\")\n",
        "  elif x>50000:\n",
        "    print(\"八五折\",x*0.85,end=\"元\")\n",
        "  elif x>30000:\n",
        "    print(\"九折\",x*0.9,end=\"元\")\n",
        "  else:  \n",
        "    print(\"九五折\",x*0.95,end=\"元\")\n",
        "else:\n",
        "  print(\"沒有折扣\",x*1,end=\"元\")"
      ],
      "metadata": {
        "colab": {
          "base_uri": "https://localhost:8080/"
        },
        "id": "-MKyW0UsF4VP",
        "outputId": "7f7cd446-da7c-4eb3-de88-cb8c50eb005e"
      },
      "execution_count": null,
      "outputs": [
        {
          "output_type": "stream",
          "name": "stdout",
          "text": [
            "請輸入消費金額1234\n",
            "沒有折扣 1234元"
          ]
        }
      ]
    },
    {
      "cell_type": "code",
      "source": [
        "x=int(input(\"請輸入月份\"))\n",
        "if (x==3) or (x==4) or (x==5) :\n",
        "  print(x,\"月是春天\")\n",
        "elif (x==6) or (x==7) or (x==8) :\n",
        "  print(\"月是夏天\")\n",
        "elif (x==9) or (x==10) or (x==11) :\n",
        "  print(\"月是秋天\")\n",
        "elif (x==12) or (x==1) or (x==2) :\n",
        "  print(\"月是冬天\")\n",
        "else:\n",
        "  print(\"輸入錯誤\")"
      ],
      "metadata": {
        "colab": {
          "base_uri": "https://localhost:8080/"
        },
        "id": "wo-5Uw_rJI5C",
        "outputId": "9f54ee0f-4596-48c6-f852-4bfa4a60672c"
      },
      "execution_count": null,
      "outputs": [
        {
          "output_type": "stream",
          "name": "stdout",
          "text": [
            "請輸入月份34\n",
            "輸入錯誤\n"
          ]
        }
      ]
    },
    {
      "cell_type": "code",
      "source": [
        "x=int(input(\"請輸入今年收入淨額\"))\n",
        "\n",
        "if x>=2000000:\n",
        "  print(\"付稅金額:\",x*0.3,\"元\")\n",
        "elif x>=1000000 and x<2000000:\n",
        "  print(\"付稅金額:\",x*0.21,\"元\")\n",
        "elif x>=600000 and x<1000000:\n",
        "  print(\"付稅金額:\",x*0.13,\"元\")\n",
        "elif x>=300000 and x<600000:\n",
        "  print(\"付稅金額:\",x*0.06,\"元\")\n",
        "else:\n",
        "  print(\"付稅金額:\",x*0,\"元\")"
      ],
      "metadata": {
        "colab": {
          "base_uri": "https://localhost:8080/"
        },
        "id": "TpolSKXnNAA2",
        "outputId": "6c1c7f3e-5d00-4b5e-e596-145c02554831"
      },
      "execution_count": null,
      "outputs": [
        {
          "output_type": "stream",
          "name": "stdout",
          "text": [
            "請輸入今年收入淨額1000000000000000\n",
            "付稅金額: 300000000000000.0 元\n"
          ]
        }
      ]
    }
  ]
}